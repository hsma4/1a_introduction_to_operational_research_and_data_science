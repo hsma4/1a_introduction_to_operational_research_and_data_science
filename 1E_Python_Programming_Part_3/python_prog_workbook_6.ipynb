{
 "cells": [
  {
   "cell_type": "markdown",
   "metadata": {},
   "source": [
    "# Python Programming Workbook 6"
   ]
  },
  {
   "cell_type": "markdown",
   "metadata": {},
   "source": [
    "You should be completing this workbook as Exercise 1 of Session 1E of the HSMA Programme - Programming in Python Part 3."
   ]
  },
  {
   "cell_type": "markdown",
   "metadata": {},
   "source": [
    "Write a function called `prime_checker` that takes as its input an integer, and which returns a boolean indicating whether or not the number is a prime number.  Ask the user to input a number, and call the function with this number to check whether it is a prime number or not, with an appropriate message displayed to the user depending on the output of the function.  The user should be asked to input numbers to test until they input 0, at which point the program terminates.  You should include exception handling around the input to catch invalid entries.  A Pandas DataFrame should store a record of the run number (starting at 1, incrementing by 1 for each new number tested), each number tested and whether it was prime or not, and should be displayed to the user once they exit.  The index for the dataframe should be set as the run number.\n",
    "\n",
    "Remember, Prime Numbers are numbers greater than 1 that are only divisible by 1 and themselves.  The first 10 prime numbers are 2, 3, 5, 7, 11, 13, 17, 19, 23, 29 - use them to check your code is working correctly.\n",
    "\n",
    "Hint : a for loop with a range of `(x,x)` where x is the same number in both cases, will never run.  You may find this useful for determining one of the prime numbers, depending on how you approach this..."
   ]
  },
  {
   "cell_type": "code",
   "execution_count": null,
   "metadata": {},
   "outputs": [],
   "source": [
    "\n",
    "\n",
    "\n",
    "\n",
    "\n",
    "\n",
    "\n",
    "\n",
    "\n",
    "\n",
    "\n",
    "\n",
    "\n",
    "\n",
    "\n",
    "\n",
    "\n",
    "\n",
    "\n",
    "\n",
    "\n",
    "\n",
    "\n",
    "\n",
    "\n",
    "\n",
    "\n",
    "\n",
    "\n",
    "\n",
    "\n",
    "\n",
    "\n",
    "\n",
    "\n",
    "\n",
    "\n",
    "\n"
   ]
  }
 ],
 "metadata": {
  "kernelspec": {
   "display_name": "Python 3",
   "language": "python",
   "name": "python3"
  },
  "language_info": {
   "codemirror_mode": {
    "name": "ipython",
    "version": 3
   },
   "file_extension": ".py",
   "mimetype": "text/x-python",
   "name": "python",
   "nbconvert_exporter": "python",
   "pygments_lexer": "ipython3",
   "version": "3.7.6"
  }
 },
 "nbformat": 4,
 "nbformat_minor": 4
}
