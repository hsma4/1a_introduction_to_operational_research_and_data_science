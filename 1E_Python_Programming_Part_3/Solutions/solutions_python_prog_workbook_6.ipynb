{
 "cells": [
  {
   "cell_type": "markdown",
   "metadata": {},
   "source": [
    "# Python Programming Workbook 6 - SOLUTUONS"
   ]
  },
  {
   "cell_type": "markdown",
   "metadata": {},
   "source": [
    "You should be completing this workbook as Exercise 1 of Session 1E of the HSMA Programme - Programming in Python Part 3."
   ]
  },
  {
   "cell_type": "markdown",
   "metadata": {},
   "source": [
    "Write a function called `prime_checker` that takes as its input an integer, and which returns a boolean indicating whether or not the number is a prime number.  Ask the user to input a number, and call the function with this number to check whether it is a prime number or not, with an appropriate message displayed to the user depending on the output of the function.  The user should be asked to input numbers to test until they input 0, at which point the program terminates.  You should include exception handling around the input to catch invalid entries.  A Pandas DataFrame should store a record of the run number (starting at 1, incrementing by 1 for each new number tested), each number tested and whether it was prime or not, and should be displayed to the user once they exit.  The index for the dataframe should be set as the run number.\n",
    "\n",
    "Remember, Prime Numbers are numbers greater than 1 that are only divisible by 1 and themselves.  The first 10 prime numbers are 2, 3, 5, 7, 11, 13, 17, 19, 23, 29 - use them to check your code is working correctly.\n",
    "\n",
    "Hint : a for loop with a range of `(x,x)` where x is the same number in both cases, will never run.  You may find this useful for determining one of the prime numbers, depending on how you approach this..."
   ]
  },
  {
   "cell_type": "code",
   "execution_count": 1,
   "metadata": {},
   "outputs": [
    {
     "name": "stdin",
     "output_type": "stream",
     "text": [
      "Please enter an integer (0 to exit):  1\n"
     ]
    },
    {
     "name": "stdout",
     "output_type": "stream",
     "text": [
      "1 is NOT a prime number.\n"
     ]
    },
    {
     "name": "stdin",
     "output_type": "stream",
     "text": [
      "Please enter an integer (0 to exit):  2\n"
     ]
    },
    {
     "name": "stdout",
     "output_type": "stream",
     "text": [
      "2 is a prime number.\n"
     ]
    },
    {
     "name": "stdin",
     "output_type": "stream",
     "text": [
      "Please enter an integer (0 to exit):  4\n"
     ]
    },
    {
     "name": "stdout",
     "output_type": "stream",
     "text": [
      "4 is NOT a prime number.\n"
     ]
    },
    {
     "name": "stdin",
     "output_type": "stream",
     "text": [
      "Please enter an integer (0 to exit):  5\n"
     ]
    },
    {
     "name": "stdout",
     "output_type": "stream",
     "text": [
      "5 is a prime number.\n"
     ]
    },
    {
     "name": "stdin",
     "output_type": "stream",
     "text": [
      "Please enter an integer (0 to exit):  0\n"
     ]
    },
    {
     "name": "stdout",
     "output_type": "stream",
     "text": [
      "            tested_number  prime\n",
      "run_number                      \n",
      "1                       1  False\n",
      "2                       2   True\n",
      "3                       4  False\n",
      "4                       5   True\n"
     ]
    }
   ],
   "source": [
    "import pandas as pd\n",
    "\n",
    "# Function to check whether a number is prime or not\n",
    "def prime_checker(input_number):\n",
    "    if input_number <= 1:\n",
    "        return False\n",
    "    else:\n",
    "        for i in range(2, input_number):\n",
    "            if input_number % i == 0:\n",
    "                return False\n",
    "        return True\n",
    "\n",
    "# Set up dataframe to store results\n",
    "prime_df = pd.DataFrame()\n",
    "\n",
    "# Start recorded run number at 1\n",
    "run_number = 1\n",
    "\n",
    "# Ask user to input number to check if it is prime or not.  Continue until\n",
    "# user inputs 0.\n",
    "while True:\n",
    "    # Use exception handling to catch non-integer inputs\n",
    "    try:\n",
    "        number_to_test = int(input(\"Please enter an integer (0 to exit): \"))\n",
    "        \n",
    "        # If user inputs 0, then print the results dataframe and exit\n",
    "        if number_to_test == 0:\n",
    "            print (prime_df)\n",
    "            \n",
    "            break\n",
    "        else:\n",
    "            # Call the function to check if number is prime and store returned boolean\n",
    "            is_it_prime = prime_checker(number_to_test)\n",
    "            \n",
    "            # Print appropriate message to user depending on output of function\n",
    "            if is_it_prime == True:\n",
    "                print (f\"{number_to_test} is a prime number.\")\n",
    "            else:\n",
    "                print (f\"{number_to_test} is NOT a prime number.\")\n",
    "                \n",
    "            # Set up a new dataframe with the results of this run, set the index to the run number\n",
    "            # and add it to the main dataframe that stores results\n",
    "            df2 = pd.DataFrame({\"run_number\":[run_number],\n",
    "                                \"tested_number\":[number_to_test],\n",
    "                                \"prime\":[is_it_prime]})\n",
    "            df2.set_index(\"run_number\", inplace=True)\n",
    "            prime_df = prime_df.append(df2)\n",
    "            \n",
    "            # Increment the run number by 1\n",
    "            run_number += 1\n",
    "    except:\n",
    "        print (\"Input must be an integer.  Please try again.\")\n",
    "    "
   ]
  }
 ],
 "metadata": {
  "kernelspec": {
   "display_name": "Python 3",
   "language": "python",
   "name": "python3"
  },
  "language_info": {
   "codemirror_mode": {
    "name": "ipython",
    "version": 3
   },
   "file_extension": ".py",
   "mimetype": "text/x-python",
   "name": "python",
   "nbconvert_exporter": "python",
   "pygments_lexer": "ipython3",
   "version": "3.7.6"
  }
 },
 "nbformat": 4,
 "nbformat_minor": 4
}
