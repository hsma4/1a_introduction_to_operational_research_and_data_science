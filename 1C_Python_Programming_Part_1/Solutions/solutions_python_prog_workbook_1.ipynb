{
 "cells": [
  {
   "cell_type": "markdown",
   "metadata": {},
   "source": [
    "# Python Programming Workbook 1 - SOLUTIONS\n"
   ]
  },
  {
   "cell_type": "markdown",
   "metadata": {},
   "source": [
    "This workbook is intended to accompany Session 1C of the HSMA Training Programme - Python Programming Part 1.  You should be completing this when prompted by the trainer as Exercise 2 of the session.  You should read each task, and then try to write code to achieve what you are being asked in the code cell below each set of instructions.  Remember - check your code is working by running the code cell (CTRL + Enter whilst in the cell, or click the play button in the bar at the top)."
   ]
  },
  {
   "cell_type": "markdown",
   "metadata": {},
   "source": [
    "**Task 1**\n",
    "Write a simple calculator that asks the user to input two numbers, then adds them together and displays the result to the user."
   ]
  },
  {
   "cell_type": "code",
   "execution_count": 6,
   "metadata": {},
   "outputs": [
    {
     "name": "stdin",
     "output_type": "stream",
     "text": [
      "Please enter first number :  5\n",
      "Please enter second number :  3\n"
     ]
    },
    {
     "name": "stdout",
     "output_type": "stream",
     "text": [
      "The result is 8\n"
     ]
    }
   ],
   "source": [
    "a = int(input(\"Please enter first number : \"))\n",
    "b = int(input(\"Please enter second number : \"))\n",
    "\n",
    "result = a + b\n",
    "\n",
    "print (f\"The result is {result}\")"
   ]
  },
  {
   "cell_type": "markdown",
   "metadata": {},
   "source": [
    "**Task 2** Write code that checks whether the output of the calculation above is 1,000,000 or more, and if so, displays a message to the user saying \"Wow - that's a big calculation!\".  If you haven't already, you'll need to make sure that the result of the calculation above is stored in a variable to do this."
   ]
  },
  {
   "cell_type": "code",
   "execution_count": 7,
   "metadata": {},
   "outputs": [
    {
     "name": "stdout",
     "output_type": "stream",
     "text": [
      "Not a large number\n"
     ]
    }
   ],
   "source": [
    "if result >= 1000000:\n",
    "    print(\"Wow - that's a big calculation!\")\n",
    "else:\n",
    "    print(\"Not a large number\")"
   ]
  },
  {
   "cell_type": "markdown",
   "metadata": {},
   "source": [
    "**Task 3** Write code that asks the user to input the length, width and height of a cuboid in cm.  If all three measurements are the same, the program identifies that the shape is a cube, notifies the user of this, and then calculates the volume by simply cubing one of the measurements, before displaying the volume to the user.  If all three measurements are not the same, then the program notifies the user that this is a cuboid, and calculates the volume of the cuboid, before displaying the volume to the user."
   ]
  },
  {
   "cell_type": "code",
   "execution_count": 8,
   "metadata": {},
   "outputs": [
    {
     "name": "stdin",
     "output_type": "stream",
     "text": [
      "Please input length in cm :  3\n",
      "Please input width in cm :  3\n",
      "Please input height in cm :  3\n"
     ]
    },
    {
     "name": "stdout",
     "output_type": "stream",
     "text": [
      "This is a cube!\n",
      "Volume : 27 cm3\n"
     ]
    }
   ],
   "source": [
    "length = int(input(\"Please input length in cm : \"))\n",
    "width = int(input(\"Please input width in cm : \"))\n",
    "height = int(input(\"Please input height in cm : \"))\n",
    "\n",
    "if length == width and length == height:\n",
    "    print (\"This is a cube!\")\n",
    "    volume = length**3\n",
    "else:\n",
    "    print (\"This is a cuboid\")\n",
    "    volume = length * width * height\n",
    "\n",
    "print (f\"Volume : {volume} cm3\")"
   ]
  },
  {
   "cell_type": "markdown",
   "metadata": {},
   "source": [
    "**Task 4** **Note - this task is considered more challenging.  You will need to think carefully about how you would approach this problem using what you've been shown.  Read back through the notes carefully, and don't be afraid to ask for help!** Write a piece of code that asks the user to input a day number from 1 up to and including 365, and which, assuming that day 1 is a Monday, prints out the day of the week corresponding to the day the user inputs.  For example, if the user were to input 16, the code should print out \"Tuesday\"."
   ]
  },
  {
   "cell_type": "code",
   "execution_count": null,
   "metadata": {},
   "outputs": [],
   "source": [
    "input_day = int(input(\"Please input a day from 1 to 365 : \"))\n",
    "\n",
    "if input_day % 7 == 1:\n",
    "    print (\"Monday\")\n",
    "elif input_day % 7 == 2:\n",
    "    print (\"Tuesday\")\n",
    "elif input_day % 7 == 3:\n",
    "    print (\"Wednesday\")\n",
    "elif input_day % 7 == 4:\n",
    "    print (\"Thursday\")\n",
    "elif input_day % 7 == 5:\n",
    "    print (\"Friday\")\n",
    "elif input_day % 7 == 6:\n",
    "    print (\"Saturday\")\n",
    "elif input_day % 7 == 0:\n",
    "    print (\"Sunday\")\n",
    "else:\n",
    "    print (\"Erm... something's gone wrong!\")"
   ]
  }
 ],
 "metadata": {
  "kernelspec": {
   "display_name": "Python 3",
   "language": "python",
   "name": "python3"
  },
  "language_info": {
   "codemirror_mode": {
    "name": "ipython",
    "version": 3
   },
   "file_extension": ".py",
   "mimetype": "text/x-python",
   "name": "python",
   "nbconvert_exporter": "python",
   "pygments_lexer": "ipython3",
   "version": "3.7.6"
  }
 },
 "nbformat": 4,
 "nbformat_minor": 4
}
