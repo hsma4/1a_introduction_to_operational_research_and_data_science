{
 "cells": [
  {
   "cell_type": "markdown",
   "metadata": {},
   "source": [
    "# Python Programming Workbook 3\n"
   ]
  },
  {
   "cell_type": "markdown",
   "metadata": {},
   "source": [
    "This workbook is intended to accompany Session 1C of the HSMA Training Programme - Python Programming Part 1.  You should be completing this when prompted by the trainer as Exercise 4 of the session.  You should read each task, and then try to write code to achieve what you are being asked in the code cell below each set of instructions.  Remember - check your code is working by running the code cell (CTRL + Enter whilst in the cell, or click the play button in the bar at the top)."
   ]
  },
  {
   "cell_type": "markdown",
   "metadata": {},
   "source": [
    "**Task 1**\n",
    "Write a program that asks the user to name their five favourite things in the world in descending order, stores them in a list, removes the last two, and prints out the top three to the user."
   ]
  },
  {
   "cell_type": "code",
   "execution_count": null,
   "metadata": {},
   "outputs": [],
   "source": [
    "print (\"Please enter your top five favourite things in descending order : \")\n",
    "\n",
    "list_of_favourite_things = []\n",
    "\n",
    "for x in range(5):\n",
    "    favourite_thing = input(\"Please enter a favourite thing : \")\n",
    "    list_of_favourite_things.append(favourite_thing)\n",
    "\n",
    "list_of_favourite_things.pop()\n",
    "list_of_favourite_things.pop()\n",
    "\n",
    "print (\"Your top three favourite things are : \")\n",
    "\n",
    "for thing in list_of_favourite_things:\n",
    "    print (thing)"
   ]
  },
  {
   "cell_type": "markdown",
   "metadata": {},
   "source": [
    "**Task 2** Write a program that asks the user to input 10 numbers, which are stored in a list.  Then, using a single line of code, create and print a new list that contains only numbers that are both odd and less than 100."
   ]
  },
  {
   "cell_type": "code",
   "execution_count": null,
   "metadata": {},
   "outputs": [],
   "source": [
    "list_of_numbers = []\n",
    "\n",
    "for x in range(10):\n",
    "    number = int(input(\"Please enter a number : \"))\n",
    "    list_of_numbers.append(number)\n",
    "    \n",
    "print([num for num in list_of_numbers if num < 100 and num % 2 == 1])"
   ]
  },
  {
   "cell_type": "markdown",
   "metadata": {},
   "source": [
    "**Task 3** You have crashed on a mysterious island.  After several years of increasingly bizarre plot developments, you walk into a cave and discover mysterious writings on the wall that associate numbers with the surname of PenCHORD team members : \"4 - Chalk, 8 - Allen, 15 - Monks, 16 - Pearn, 23 - Manzi, 42 - Harper\".  Perplexed by this, you decide you should probably write a piece of Python code that stores these entries in a dictionary called \"candidates\", and which allows the user to input a number to find out the corresponding \"candidate\" surname.  If the user inputs a candidate number that doesn't exist, the system should warn them of this and allow them to input again.  The system should also keep asking the user to input candidate numbers until the user types -1, at which point the program says \"Goodbye\" and terminates."
   ]
  },
  {
   "cell_type": "code",
   "execution_count": null,
   "metadata": {},
   "outputs": [],
   "source": [
    "candidates = {4:\"Chalk\", 8:\"Allen\", 15:\"Monks\", 16:\"Pearn\", 23:\"Manzi\", 42:\"Harper\"}\n",
    "\n",
    "while True:\n",
    "    selected_candidate = int(input(\"Please enter a candidate number (enter -1 to exit) : \"))\n",
    "    \n",
    "    if selected_candidate in candidates:\n",
    "        print (candidates[selected_candidate])\n",
    "    elif selected_candidate == -1:\n",
    "        print (\"Goodbye\")\n",
    "        break\n",
    "    else:\n",
    "        print (\"No such candidate\")\n"
   ]
  }
 ],
 "metadata": {
  "kernelspec": {
   "display_name": "Python 3",
   "language": "python",
   "name": "python3"
  },
  "language_info": {
   "codemirror_mode": {
    "name": "ipython",
    "version": 3
   },
   "file_extension": ".py",
   "mimetype": "text/x-python",
   "name": "python",
   "nbconvert_exporter": "python",
   "pygments_lexer": "ipython3",
   "version": "3.7.6"
  }
 },
 "nbformat": 4,
 "nbformat_minor": 4
}
