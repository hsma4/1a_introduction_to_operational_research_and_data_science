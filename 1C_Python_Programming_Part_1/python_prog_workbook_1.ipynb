{
 "cells": [
  {
   "cell_type": "markdown",
   "metadata": {},
   "source": [
    "# Python Programming Workbook 1\n"
   ]
  },
  {
   "cell_type": "markdown",
   "metadata": {},
   "source": [
    "This workbook is intended to accompany Session 1C of the HSMA Training Programme - Python Programming Part 1.  You should be completing this when prompted by the trainer as Exercise 2 of the session.  You should read each task, and then try to write code to achieve what you are being asked in the code cell below each set of instructions.  Remember - check your code is working by running the code cell (CTRL + Enter whilst in the cell, or click the play button in the bar at the top)."
   ]
  },
  {
   "cell_type": "markdown",
   "metadata": {},
   "source": [
    "**Task 1**\n",
    "Write a simple calculator that asks the user to input two numbers, then adds them together and displays the result to the user."
   ]
  },
  {
   "cell_type": "code",
   "execution_count": 1,
   "metadata": {},
   "outputs": [],
   "source": [
    "\n",
    "\n",
    "\n",
    "\n",
    "\n",
    "\n"
   ]
  },
  {
   "cell_type": "markdown",
   "metadata": {},
   "source": [
    "**Task 2** Write code that checks whether the output of the calculation above is 1,000,000 or more, and if so, displays a message to the user saying \"Wow - that's a big calculation!\".  If you haven't already, you'll need to make sure that the result of the calculation above is stored in a variable to do this."
   ]
  },
  {
   "cell_type": "code",
   "execution_count": null,
   "metadata": {},
   "outputs": [],
   "source": [
    "\n",
    "\n",
    "\n",
    "\n",
    "\n",
    "\n",
    "\n"
   ]
  },
  {
   "cell_type": "markdown",
   "metadata": {},
   "source": [
    "**Task 3** Write code that asks the user to input the length, width and height of a cuboid in cm.  If all three measurements are the same, the program identifies that the shape is a cube, notifies the user of this, and then calculates the volume by simply cubing one of the measurements, before displaying the volume to the user.  If all three measurements are not the same, then the program notifies the user that this is a cuboid, and calculates the volume of the cuboid, before displaying the volume to the user."
   ]
  },
  {
   "cell_type": "code",
   "execution_count": null,
   "metadata": {},
   "outputs": [],
   "source": [
    "\n",
    "\n",
    "\n",
    "\n",
    "\n",
    "\n",
    "\n"
   ]
  },
  {
   "cell_type": "markdown",
   "metadata": {},
   "source": [
    "**Task 4** **Note - this task is considered more challenging.  You will need to think carefully about how you would approach this problem using what you've been shown.  Read back through the notes carefully** Write a piece of code that asks the user to input a day number from 1 up to and including 365, and which, assuming that day 1 represents a Monday, prints out the day of the week corresponding to the day the user inputs.  For example, if the user were to input 16, the code should print out \"Tuesday\"."
   ]
  },
  {
   "cell_type": "code",
   "execution_count": null,
   "metadata": {},
   "outputs": [],
   "source": [
    "\n",
    "\n",
    "\n",
    "\n",
    "\n",
    "\n",
    "\n",
    "\n"
   ]
  }
 ],
 "metadata": {
  "kernelspec": {
   "display_name": "Python 3",
   "language": "python",
   "name": "python3"
  },
  "language_info": {
   "codemirror_mode": {
    "name": "ipython",
    "version": 3
   },
   "file_extension": ".py",
   "mimetype": "text/x-python",
   "name": "python",
   "nbconvert_exporter": "python",
   "pygments_lexer": "ipython3",
   "version": "3.7.6"
  }
 },
 "nbformat": 4,
 "nbformat_minor": 4
}
