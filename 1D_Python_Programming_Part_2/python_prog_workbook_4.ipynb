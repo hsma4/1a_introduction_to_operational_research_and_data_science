{
 "cells": [
  {
   "cell_type": "markdown",
   "metadata": {},
   "source": [
    "# Python Programming Workbook 4"
   ]
  },
  {
   "cell_type": "markdown",
   "metadata": {},
   "source": [
    "You should be completing this workbook as Exercise 1 of HSMA Programme Session 1D - Python Programming Part 2."
   ]
  },
  {
   "cell_type": "markdown",
   "metadata": {},
   "source": [
    "This is a warm-up task to practice using the skills you developed in the last session.  You have been asked to write a program that :\n",
    "- creates a list made up of 100 randomly generated numbers between 0 and 1\n",
    "- extracts all numbers greater than 0.1 or less than 0.9 and puts them in a new trimmed list\n",
    "- adds up the numbers in the trimmed list\n",
    "- if the total is at least 40, displays the message \"At least 40\"; otherwise it displays the message \"Less than 40\"\n",
    "- records whether the total was 40 or more in a dictionary against the run number\n",
    "- repeats the above 100 times (100 runs)\n",
    "- after 100 runs, it reports to the user the % of times the total was 40 or more"
   ]
  },
  {
   "cell_type": "code",
   "execution_count": null,
   "metadata": {},
   "outputs": [],
   "source": [
    "\n",
    "\n",
    "\n",
    "\n",
    "\n",
    "\n",
    "\n",
    "\n",
    "\n",
    "\n",
    "\n",
    "\n",
    "\n",
    "\n",
    "\n",
    "\n",
    "\n",
    "\n",
    "\n",
    "\n",
    "\n",
    "\n",
    "\n",
    "\n",
    "\n",
    "\n",
    "\n",
    "\n"
   ]
  }
 ],
 "metadata": {
  "kernelspec": {
   "display_name": "Python 3",
   "language": "python",
   "name": "python3"
  },
  "language_info": {
   "codemirror_mode": {
    "name": "ipython",
    "version": 3
   },
   "file_extension": ".py",
   "mimetype": "text/x-python",
   "name": "python",
   "nbconvert_exporter": "python",
   "pygments_lexer": "ipython3",
   "version": "3.7.6"
  }
 },
 "nbformat": 4,
 "nbformat_minor": 4
}
