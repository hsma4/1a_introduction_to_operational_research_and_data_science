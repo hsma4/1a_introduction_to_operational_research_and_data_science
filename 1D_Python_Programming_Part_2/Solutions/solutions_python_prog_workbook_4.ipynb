{
 "cells": [
  {
   "cell_type": "markdown",
   "metadata": {},
   "source": [
    "# Python Programming Workbook 4 - SOLUTION"
   ]
  },
  {
   "cell_type": "markdown",
   "metadata": {},
   "source": [
    "You should be completing this workbook as Exercise 1 of HSMA Programme Session 1D - Python Programming Part 2."
   ]
  },
  {
   "cell_type": "markdown",
   "metadata": {},
   "source": [
    "This is a warm-up task to practice using the skills you developed in the last session.  You have been asked to write a program that :\n",
    "- creates a list made up of 100 randomly generated numbers between 0 and 1\n",
    "- extracts all numbers greater than 0.1 or less than 0.9 and puts them in a new trimmed list\n",
    "- adds up the numbers in the trimmed list\n",
    "- if the total is at least 40, displays the message \"At least 40\"; otherwise it displays the message \"Less than 40\"\n",
    "- records whether the total was 40 or more in a dictionary against the run number\n",
    "- repeats the above 100 times (100 runs)\n",
    "- after 100 runs, it reports to the user the % of times the total was 40 or more"
   ]
  },
  {
   "cell_type": "code",
   "execution_count": null,
   "metadata": {},
   "outputs": [],
   "source": [
    "import random\n",
    "\n",
    "run_records_at_least_40 = {}\n",
    "number_of_runs = 100\n",
    "number_of_random_numbers = 100\n",
    "\n",
    "for run in range(number_of_runs):\n",
    "    list_of_random_numbers = []\n",
    "    \n",
    "    for y in range(number_of_random_numbers):\n",
    "        list_of_random_numbers.append(random.random())\n",
    "        \n",
    "    trimmed_list = [num for num in list_of_random_numbers if num >= 0.1 and num <= 0.9]\n",
    "    \n",
    "    running_total = 0\n",
    "    \n",
    "    for num in trimmed_list:\n",
    "        running_total += num\n",
    "        \n",
    "    if running_total >= 40:\n",
    "        run_records_at_least_40[run] = True\n",
    "        print (\"At least 40\")\n",
    "    else:\n",
    "        run_records_at_least_40[run] = False\n",
    "        print (\"Less than 40\")\n",
    "        \n",
    "true_count = 0\n",
    "\n",
    "for run in range(number_of_runs):\n",
    "    if run_records_at_least_40[run] == True:\n",
    "        true_count += 1\n",
    "    \n",
    "perc_trues = (true_count / number_of_runs) * 100\n",
    "\n",
    "print (f\"{perc_trues}% of runs had a total of 40 or more.\")\n"
   ]
  }
 ],
 "metadata": {
  "kernelspec": {
   "display_name": "Python 3",
   "language": "python",
   "name": "python3"
  },
  "language_info": {
   "codemirror_mode": {
    "name": "ipython",
    "version": 3
   },
   "file_extension": ".py",
   "mimetype": "text/x-python",
   "name": "python",
   "nbconvert_exporter": "python",
   "pygments_lexer": "ipython3",
   "version": "3.7.6"
  }
 },
 "nbformat": 4,
 "nbformat_minor": 4
}
