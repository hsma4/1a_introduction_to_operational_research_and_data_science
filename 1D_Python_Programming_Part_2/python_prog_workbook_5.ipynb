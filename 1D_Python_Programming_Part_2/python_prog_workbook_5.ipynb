{
 "cells": [
  {
   "cell_type": "markdown",
   "metadata": {},
   "source": [
    "# Python Programming Workbook 5"
   ]
  },
  {
   "cell_type": "markdown",
   "metadata": {},
   "source": [
    "You should be completing this workbook as Exercise 2 of HSMA Programme Session 1D - Python Programming Part 2."
   ]
  },
  {
   "cell_type": "markdown",
   "metadata": {},
   "source": [
    "**Task 1** Write a function that takes as its inputs two lists of any size, and then compares them to see how many common elements they have (ie how many things in one list are also in the other), and returns this number.  Try the function out by calling it with two lists (try playing with various number of common elements to test it), and after the function is called, print a message that confirms how many elements are common to both lists.  You should add exception handling such that if anything other than two lists are passed to the function, a message appears saying that something went wrong, and the message about the number of common elements is never displayed.  Test the error handling by trying to pass something other than two lists (e.g. one list, three lists, an integer etc)."
   ]
  },
  {
   "cell_type": "code",
   "execution_count": null,
   "metadata": {},
   "outputs": [],
   "source": [
    "\n",
    "\n",
    "\n",
    "\n",
    "\n",
    "\n",
    "\n"
   ]
  },
  {
   "cell_type": "markdown",
   "metadata": {},
   "source": [
    "**Task 2** Write a function that asks the user to input five integers, and adds them to a list, which is returned.  Then call the function you wrote in Task 1, using the returned list as a replacement for one of the lists you used above, to see how many elements from the user input list are also in the other list.  You should put exception handling around the user input so that if the user inputs anything other than an integer a message is displayed telling them it must be an integer, and they are asked to input again (the code should only proceed to ask for the next input once the user hass input an integer)."
   ]
  },
  {
   "cell_type": "code",
   "execution_count": null,
   "metadata": {},
   "outputs": [],
   "source": [
    "\n",
    "\n",
    "\n",
    "\n",
    "\n",
    "\n",
    "\n"
   ]
  }
 ],
 "metadata": {
  "kernelspec": {
   "display_name": "Python 3",
   "language": "python",
   "name": "python3"
  },
  "language_info": {
   "codemirror_mode": {
    "name": "ipython",
    "version": 3
   },
   "file_extension": ".py",
   "mimetype": "text/x-python",
   "name": "python",
   "nbconvert_exporter": "python",
   "pygments_lexer": "ipython3",
   "version": "3.7.6"
  }
 },
 "nbformat": 4,
 "nbformat_minor": 4
}
